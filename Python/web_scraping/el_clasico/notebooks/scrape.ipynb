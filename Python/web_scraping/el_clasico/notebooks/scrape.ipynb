{
 "cells": [
  {
   "cell_type": "code",
   "execution_count": 1,
   "metadata": {},
   "outputs": [],
   "source": [
    "import pandas as pd"
   ]
  },
  {
   "cell_type": "markdown",
   "metadata": {},
   "source": [
    "### Script to Identify Tables\n"
   ]
  },
  {
   "cell_type": "code",
   "execution_count": 2,
   "metadata": {},
   "outputs": [
    {
     "name": "stdout",
     "output_type": "stream",
     "text": [
      "An error occurred: HTTP Error 403: Forbidden\n"
     ]
    }
   ],
   "source": [
    "def explore_tables():\n",
    "    url = 'https://www.transfermarkt.us/vergleich/vereineBegegnungen/statistik/131_418/plus/1'\n",
    "    tables = pd.read_html(url)\n",
    "    print(f\"Total number of tables found: {len(tables)}\")\n",
    "    for i, table in enumerate(tables):\n",
    "        print(f\"\\nTable {i}:\")\n",
    "        print(\"Shape:\", table.shape)\n",
    "        print(\"Columns:\", list(table.columns))\n",
    "        print(\"First few rows:\")\n",
    "        print(table.head(2))  # Show first 2 rows of each table\n",
    "        print(\"-\" * 80)  # Separator for better readability\n",
    "try:\n",
    "    explore_tables()\n",
    "except Exception as e:\n",
    "    print(f\"An error occurred: {e}\")"
   ]
  },
  {
   "cell_type": "markdown",
   "metadata": {},
   "source": [
    "### Script to scrape\n"
   ]
  },
  {
   "cell_type": "code",
   "execution_count": null,
   "metadata": {},
   "outputs": [],
   "source": [
    "def scrape_el_clasico_data():\n",
    "    # URL of the Wikipedia page\n",
    "    url = 'https://en.wikipedia.org/wiki/List_of_El_Cl%C3%A1sico_matches'\n",
    "    tables = pd.read_html(url)\n",
    "    # Reference the table using the table index\n",
    "    matches_df = tables[8]\n",
    "    # Remove any '[note #]' references from cells\n",
    "    matches_df = matches_df.replace(r'\\[.*\\]', '', regex=True)\n",
    "    return matches_df\n",
    "try:\n",
    "    el_clasico_data = scrape_el_clasico_data()\n",
    "    print(el_clasico_data.head())\n",
    "    # Save to CSV\n",
    "    el_clasico_data.to_csv('el_clasico/Datasets/el_clasico_matches_copa_de_la_liga.csv', index=False)\n",
    "except Exception as e:\n",
    "    print(f\"An error occurred: {e}\")"
   ]
  },
  {
   "cell_type": "code",
   "execution_count": null,
   "metadata": {},
   "outputs": [],
   "source": [
    "https://www.transfermarkt.us/vergleich/vereineBegegnungen/statistik/131_418/plus/1"
   ]
  },
  {
   "cell_type": "code",
   "execution_count": null,
   "metadata": {},
   "outputs": [],
   "source": []
  }
 ],
 "metadata": {
  "kernelspec": {
   "display_name": "scrap",
   "language": "python",
   "name": "python3"
  },
  "language_info": {
   "codemirror_mode": {
    "name": "ipython",
    "version": 3
   },
   "file_extension": ".py",
   "mimetype": "text/x-python",
   "name": "python",
   "nbconvert_exporter": "python",
   "pygments_lexer": "ipython3",
   "version": "3.12.6"
  }
 },
 "nbformat": 4,
 "nbformat_minor": 2
}
